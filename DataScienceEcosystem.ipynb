{
 "cells": [
  {
   "cell_type": "markdown",
   "id": "e2e6666e",
   "metadata": {},
   "source": [
    "# My Jupyter Notebook on IBM Watson Studio\n"
   ]
  },
  {
   "cell_type": "markdown",
   "id": "daca6609",
   "metadata": {},
   "source": [
    "I'm sarang kulkarni and in this notebook Data science tool and ecosystems are summarized."
   ]
  },
  {
   "cell_type": "markdown",
   "id": "da093896",
   "metadata": {},
   "source": [
    "## Data Science Languages\n",
    "- Python\n",
    "- R\n",
    "- SQL\n",
    "- Julia\n",
    "- Scala\n"
   ]
  },
  {
   "cell_type": "markdown",
   "id": "f7622739",
   "metadata": {},
   "source": [
    "## Data Science Libraries\n",
    "- Pandas\n",
    "- NumPy\n",
    "- Matplotlib\n",
    "- Scikit-learn\n",
    "- TensorFlow\n",
    "- PyTorch\n"
   ]
  },
  {
   "cell_type": "markdown",
   "id": "7645828a",
   "metadata": {},
   "source": [
    "## Data Science Tools\n",
    "\n",
    "| Tool             | Description                    |\n",
    "|------------------|--------------------------------|\n",
    "| Jupyter Notebook | Interactive data analysis      |\n",
    "| RStudio          | IDE for R programming          |\n",
    "| Apache Spark     | Big data processing framework  |\n",
    "| TensorFlow       | Deep learning library          |\n"
   ]
  },
  {
   "cell_type": "markdown",
   "id": "80daef24",
   "metadata": {},
   "source": [
    "## Arithmetic Expression Examples\n",
    "Below are examples of basic arithmetic expressions, including multiplication and addition.\n"
   ]
  },
  {
   "cell_type": "code",
   "execution_count": 3,
   "id": "d063dbc4",
   "metadata": {},
   "outputs": [
    {
     "data": {
      "text/plain": [
       "17"
      ]
     },
     "execution_count": 3,
     "metadata": {},
     "output_type": "execute_result"
    }
   ],
   "source": [
    "# Multiply and add numbers\n",
    "(3 * 4) + 5\n"
   ]
  },
  {
   "cell_type": "code",
   "execution_count": 4,
   "id": "a7d13b41",
   "metadata": {},
   "outputs": [
    {
     "data": {
      "text/plain": [
       "2.5"
      ]
     },
     "execution_count": 4,
     "metadata": {},
     "output_type": "execute_result"
    }
   ],
   "source": [
    "# Convert minutes to hours\n",
    "minutes = 150\n",
    "hours = minutes / 60\n",
    "hours\n"
   ]
  },
  {
   "cell_type": "markdown",
   "id": "6f9aaa0c",
   "metadata": {},
   "source": [
    "## Objectives\n",
    "- Understand Data Science languages\n",
    "- Explore popular Data Science libraries\n",
    "- Learn about Data Science tools\n",
    "- Perform basic arithmetic operations\n"
   ]
  },
  {
   "cell_type": "markdown",
   "id": "6fedb6eb",
   "metadata": {},
   "source": [
    "## Author\n",
    "**Sarang Kulkarni**\n"
   ]
  },
  {
   "cell_type": "code",
   "execution_count": null,
   "id": "1c5b1f00",
   "metadata": {},
   "outputs": [],
   "source": []
  }
 ],
 "metadata": {
  "kernelspec": {
   "display_name": "Python 3 (ipykernel)",
   "language": "python",
   "name": "python3"
  },
  "language_info": {
   "codemirror_mode": {
    "name": "ipython",
    "version": 3
   },
   "file_extension": ".py",
   "mimetype": "text/x-python",
   "name": "python",
   "nbconvert_exporter": "python",
   "pygments_lexer": "ipython3",
   "version": "3.9.13"
  }
 },
 "nbformat": 4,
 "nbformat_minor": 5
}
